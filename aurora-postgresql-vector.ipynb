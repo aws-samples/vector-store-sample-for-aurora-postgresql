{
 "cells": [
  {
   "cell_type": "markdown",
   "id": "40376b5b",
   "metadata": {},
   "source": [
    "### Background\n",
    "\n",
    "In this guide, we'll explore how to use Amazon Aurora PostgreSQL as a vector store for performing similarity search. Vector stores are essential for various natural language processing (NLP) tasks, such as semantic search, recommendation systems, and question-answering.\n",
    "\n",
    "Amazon Aurora PostgreSQL is a fully managed, PostgreSQL-compatible relational database service provided by Amazon Web Services (AWS). It offers high performance, scalability, and compatibility with PostgreSQL, making it a suitable choice for storing and querying vector data.\n",
    "\n",
    "We'll leverage a pre-trained model *amazon.titan-embed-g1-text-02*, provided by [Amazon Bedrock](https://docs.aws.amazon.com/bedrock/latest/userguide/titan-embedding-models.html), to create vector embeddings offline and store them for subsequent retrieval operations."
   ]
  },
  {
   "cell_type": "code",
   "execution_count": null,
   "id": "18dccb14-6818-491f-aaf9-d056d470e3a3",
   "metadata": {
    "tags": []
   },
   "outputs": [],
   "source": [
    "!pip install -U psycopg2-binary pgvector tqdm boto3 requests numpy==1.23 pandas bottleneck pandarallel"
   ]
  },
  {
   "cell_type": "markdown",
   "id": "da227ccf-054b-4519-9016-441395a7775a",
   "metadata": {},
   "source": [
    "## Load and preprocess data \n",
    "\n",
    "Downlad a JSON file containing product metadata from a GitHub repository. The data includes high-resolution fashion images and textual descriptions in English. The data is loaded into a pandas DataFrame for further processing. "
   ]
  },
  {
   "cell_type": "code",
   "execution_count": null,
   "id": "64ecaa2c-9763-4aef-b895-cbdc73f3f891",
   "metadata": {
    "tags": []
   },
   "outputs": [],
   "source": [
    "import urllib.request\n",
    "import os\n",
    "import json\n",
    "import pandas as pd\n",
    "\n",
    "filename = 'metadata.json'\n",
    "\n",
    "def download_metadata(url):\n",
    "    if not os.path.exists(filename):\n",
    "        urllib.request.urlretrieve(url, filename)\n",
    "\n",
    "# It is multi-modal Zalando research FEIDEGGER data with 8,732 high-resolution fashion images and five textual annotations in German that has been translated to english using Amazon translate. \n",
    "download_metadata('https://raw.githubusercontent.com/aws-samples/rds-postgresql-pgvector/master/data/FEIDEGGER_release_1.2.json')\n",
    "\n",
    "with open(filename) as json_file:\n",
    "    data = json.load(json_file)\n",
    "    df = pd.json_normalize(data)"
   ]
  },
  {
   "cell_type": "code",
   "execution_count": null,
   "id": "c77e2015-e889-4d01-9a4b-88ef8067dfc0",
   "metadata": {
    "tags": []
   },
   "outputs": [],
   "source": [
    "# Initialize bedrock client \n",
    "import boto3\n",
    "import json\n",
    "\n",
    "bedrock = boto3.client(service_name=\"bedrock\")\n",
    "bedrock_runtime = boto3.client(service_name=\"bedrock-runtime\")"
   ]
  },
  {
   "cell_type": "markdown",
   "id": "b9a5d656-3dd7-4d95-9a3f-81d6391f327b",
   "metadata": {},
   "source": [
    "## Generate Text Embeddings\n",
    "\n",
    "Define a function to generate text embeddings using the Amazon Titan Text Embeddings model. "
   ]
  },
  {
   "cell_type": "code",
   "execution_count": null,
   "id": "5c3b493b-9a35-4dda-9146-2ba9a54f3595",
   "metadata": {
    "tags": []
   },
   "outputs": [],
   "source": [
    "def generate_embeddings(query):\n",
    "    \n",
    "    payLoad = json.dumps({'inputText': query })\n",
    "    response = bedrock_runtime.invoke_model(\n",
    "        body=payLoad, \n",
    "        modelId='amazon.titan-embed-g1-text-02',\n",
    "        accept=\"application/json\", \n",
    "        contentType=\"application/json\" )\n",
    "    response_body = json.loads(response.get(\"body\").read())\n",
    "    return(response_body.get(\"embedding\"))\n",
    "\n",
    "joined_description = ' '.join(df.iloc[1].get('descriptions'))\n",
    "\n",
    "description_embeddings = generate_embeddings(joined_description)\n",
    "\n",
    "# Get number of dimensions of the vector embeddings. \n",
    "print (\"Number of dimensions : {}\".format(len(description_embeddings)))\n"
   ]
  },
  {
   "cell_type": "code",
   "execution_count": null,
   "id": "37ff1fa4-cc61-424f-822b-ca79507b1219",
   "metadata": {
    "tags": []
   },
   "outputs": [],
   "source": [
    "# Please re-run this cell if it fails the first time with SSL error\n",
    "from pandarallel import pandarallel as pdp\n",
    "\n",
    "pdp.initialize(nb_workers=8)\n",
    "\n",
    "def join_descriptions(descriptions):\n",
    "    return ' '.join(descriptions)\n",
    "\n",
    "# Uncomment following line to read first 100 items and reduce the execution time\n",
    "df = df.head(100)\n",
    "    \n",
    "# Join the list of descriptions for each product to match inputText type\n",
    "df['joined_descriptions'] = df['descriptions'].parallel_apply(join_descriptions)\n",
    "\n",
    "pdp.initialize(progress_bar=True,nb_workers=8)\n",
    "# Generate Embeddings for each product\n",
    "df['descriptions_embeddings'] = df['joined_descriptions'].parallel_apply(generate_embeddings)\n",
    "\n",
    "print(\"Completed generation of embeddings for all the products descriptions\")"
   ]
  },
  {
   "cell_type": "markdown",
   "id": "adf4a30d-9db2-44c2-bcbb-405c01154811",
   "metadata": {},
   "source": [
    "## Store and Index Text embeddings in Aurora PostgreSQL using pgvector extension \n",
    "\n",
    "pgvector is an open-source extension for the PostgreSQL that enables efficient storage and search of high-dimensional vector data, such as text embeddings, image features, or any other numerical vector representations.\n",
    "\n",
    "The primary purpose of pgvector is to provide a seamless integration of vector operations within PostgreSQL, allowing users to perform various similarity searches and nearest neighbor queries on vector data. It introduces new data types, functions, and indexing methods specifically designed for working with vector data\n",
    "\n",
    "In this step, you will establish a connection to a PostgreSQL database hosted on Amazon Aurora and create a table to store the product data, including the generated text embeddings. \n",
    "\n",
    "To enable efficient similarity search on the text embeddings, we'll create an *IVFFlat* short for Inverted File with Flat Compression index on the descriptions_embeddings column with 100 lists (cluster). The ivfflat index is specifically designed for high-dimensional vector data and allows for fast nearest neighbor searches based on vector distances."
   ]
  },
  {
   "cell_type": "code",
   "execution_count": null,
   "id": "179004fb-c1da-4b24-a0c2-36f3ac31f2a5",
   "metadata": {
    "tags": []
   },
   "outputs": [],
   "source": [
    "import psycopg2\n",
    "from pgvector.psycopg2 import register_vector\n",
    "import boto3 \n",
    "import json \n",
    "\n",
    "client = boto3.client('secretsmanager')\n",
    "\n",
    "# Replace SecretId with your own \n",
    "\n",
    "response = client.get_secret_value(\n",
    "    SecretId='input-your-secret-id'\n",
    ")\n",
    "database_secrets = json.loads(response['SecretString'])\n",
    "\n",
    "dbhost = database_secrets['host']\n",
    "dbport = '5432'\n",
    "dbuser = database_secrets['username']\n",
    "dbpass = database_secrets['password']\n",
    "\n",
    "dbconn = psycopg2.connect(host=dbhost, user=dbuser, password=dbpass, port=dbport, connect_timeout=10)\n",
    "dbconn.set_session(autocommit=True)\n",
    "\n",
    "print (\"RDS connection successful\")\n",
    "\n",
    "cur = dbconn.cursor()\n",
    "\n",
    "cur.execute(\"CREATE EXTENSION IF NOT EXISTS vector;\")\n",
    "register_vector(dbconn)\n",
    "cur.execute(\"DROP TABLE IF EXISTS products;\")\n",
    "cur.execute(\"\"\"CREATE TABLE IF NOT EXISTS products(\n",
    "               id bigserial primary key, \n",
    "               description text, \n",
    "               url text, \n",
    "               split int, \n",
    "               descriptions_embeddings vector(1536));\"\"\")\n",
    "\n",
    "\n",
    "for _, x in df.iterrows():\n",
    "    cur.execute(\"\"\"INSERT INTO products\n",
    "                      (description, url, split, descriptions_embeddings) \n",
    "                   VALUES(%s, %s, %s, %s);\"\"\", \n",
    "                   (' '.join(x.get('descriptions', [])), x.get('url'), x.get('split'), x.get('descriptions_embeddings') ))\n",
    "\n",
    "# Indexing the vector embeddings using ivfflat indexing method\n",
    "cur.execute(\"\"\"CREATE INDEX ON products \n",
    "               USING ivfflat (descriptions_embeddings vector_l2_ops) WITH (lists = 100);\"\"\")\n",
    "cur.execute(\"VACUUM ANALYZE products;\")\n",
    "\n",
    "cur.close()\n",
    "dbconn.close()\n",
    "\n",
    "print (\"Vector embeddings has been successfully loaded into PostgreSQL\")"
   ]
  },
  {
   "cell_type": "markdown",
   "id": "20842739-f178-4f7f-bdeb-fb3d82c3df17",
   "metadata": {},
   "source": [
    "## Evaluate PostgreSQL vector Search Results\n",
    "\n",
    "We will generate text embeddings for the query using the Amazon Titan Text Embeddings model. These embeddings will be used to search a PostgreSQL database for the nearest neighbor product descriptions based on vector similarity. "
   ]
  },
  {
   "cell_type": "code",
   "execution_count": null,
   "id": "79ba45a8-2224-4345-b2a7-c8450c3bf60a",
   "metadata": {
    "tags": []
   },
   "outputs": [],
   "source": [
    "import numpy as np\n",
    "import requests\n",
    "from IPython.display import display, Markdown, Latex, HTML\n",
    "\n",
    "import matplotlib.pyplot as plt\n",
    "from skimage import io\n",
    "\n",
    "\n",
    "def similarity_search(search_text):\n",
    "    \n",
    "    embedding = np.array(generate_embeddings(search_text))\n",
    "    \n",
    "    dbconn = psycopg2.connect(host=dbhost, user=dbuser, password=dbpass, port=dbport, connect_timeout=10)\n",
    "    dbconn.set_session(autocommit=True)\n",
    "    cur = dbconn.cursor()\n",
    "\n",
    "    try:\n",
    "        cur.execute(\"\"\"SELECT id, url, description, descriptions_embeddings \n",
    "                FROM products \n",
    "                ORDER BY descriptions_embeddings <-> %s limit 2;\"\"\",(embedding,))\n",
    "        r = cur.fetchall()\n",
    "    except Exception as e:\n",
    "        print(f\"Error executing SQL query: {e}\")                \n",
    "\n",
    "    plt.rcParams[\"figure.figsize\"] = [7.50, 3.50]\n",
    "    plt.rcParams[\"figure.autolayout\"] = True\n",
    "    urls = []\n",
    "  \n",
    "    for x in r:\n",
    "        url = x[1].split('?')[0]\n",
    "        urldata = requests.get(url).content\n",
    "        print (\"Product Item Id: \" + str(x[0]))\n",
    "        a = io.imread(url)\n",
    "        plt.imshow(a)\n",
    "        plt.axis('off')\n",
    "        plt.show()\n",
    "\n",
    "    cur.close()\n",
    "    dbconn.close()\n",
    "\n",
    "print(\"Created similarity_search function successfully\")\n"
   ]
  },
  {
   "cell_type": "code",
   "execution_count": null,
   "id": "25bde51d-8b88-483c-a613-159fc95eb003",
   "metadata": {
    "tags": []
   },
   "outputs": [],
   "source": [
    "similarity_search(\"purple flower dress\")"
   ]
  }
 ],
 "metadata": {
  "availableInstances": [
   {
    "_defaultOrder": 0,
    "_isFastLaunch": true,
    "category": "General purpose",
    "gpuNum": 0,
    "hideHardwareSpecs": false,
    "memoryGiB": 4,
    "name": "ml.t3.medium",
    "vcpuNum": 2
   },
   {
    "_defaultOrder": 1,
    "_isFastLaunch": false,
    "category": "General purpose",
    "gpuNum": 0,
    "hideHardwareSpecs": false,
    "memoryGiB": 8,
    "name": "ml.t3.large",
    "vcpuNum": 2
   },
   {
    "_defaultOrder": 2,
    "_isFastLaunch": false,
    "category": "General purpose",
    "gpuNum": 0,
    "hideHardwareSpecs": false,
    "memoryGiB": 16,
    "name": "ml.t3.xlarge",
    "vcpuNum": 4
   },
   {
    "_defaultOrder": 3,
    "_isFastLaunch": false,
    "category": "General purpose",
    "gpuNum": 0,
    "hideHardwareSpecs": false,
    "memoryGiB": 32,
    "name": "ml.t3.2xlarge",
    "vcpuNum": 8
   },
   {
    "_defaultOrder": 4,
    "_isFastLaunch": true,
    "category": "General purpose",
    "gpuNum": 0,
    "hideHardwareSpecs": false,
    "memoryGiB": 8,
    "name": "ml.m5.large",
    "vcpuNum": 2
   },
   {
    "_defaultOrder": 5,
    "_isFastLaunch": false,
    "category": "General purpose",
    "gpuNum": 0,
    "hideHardwareSpecs": false,
    "memoryGiB": 16,
    "name": "ml.m5.xlarge",
    "vcpuNum": 4
   },
   {
    "_defaultOrder": 6,
    "_isFastLaunch": false,
    "category": "General purpose",
    "gpuNum": 0,
    "hideHardwareSpecs": false,
    "memoryGiB": 32,
    "name": "ml.m5.2xlarge",
    "vcpuNum": 8
   },
   {
    "_defaultOrder": 7,
    "_isFastLaunch": false,
    "category": "General purpose",
    "gpuNum": 0,
    "hideHardwareSpecs": false,
    "memoryGiB": 64,
    "name": "ml.m5.4xlarge",
    "vcpuNum": 16
   },
   {
    "_defaultOrder": 8,
    "_isFastLaunch": false,
    "category": "General purpose",
    "gpuNum": 0,
    "hideHardwareSpecs": false,
    "memoryGiB": 128,
    "name": "ml.m5.8xlarge",
    "vcpuNum": 32
   },
   {
    "_defaultOrder": 9,
    "_isFastLaunch": false,
    "category": "General purpose",
    "gpuNum": 0,
    "hideHardwareSpecs": false,
    "memoryGiB": 192,
    "name": "ml.m5.12xlarge",
    "vcpuNum": 48
   },
   {
    "_defaultOrder": 10,
    "_isFastLaunch": false,
    "category": "General purpose",
    "gpuNum": 0,
    "hideHardwareSpecs": false,
    "memoryGiB": 256,
    "name": "ml.m5.16xlarge",
    "vcpuNum": 64
   },
   {
    "_defaultOrder": 11,
    "_isFastLaunch": false,
    "category": "General purpose",
    "gpuNum": 0,
    "hideHardwareSpecs": false,
    "memoryGiB": 384,
    "name": "ml.m5.24xlarge",
    "vcpuNum": 96
   },
   {
    "_defaultOrder": 12,
    "_isFastLaunch": false,
    "category": "General purpose",
    "gpuNum": 0,
    "hideHardwareSpecs": false,
    "memoryGiB": 8,
    "name": "ml.m5d.large",
    "vcpuNum": 2
   },
   {
    "_defaultOrder": 13,
    "_isFastLaunch": false,
    "category": "General purpose",
    "gpuNum": 0,
    "hideHardwareSpecs": false,
    "memoryGiB": 16,
    "name": "ml.m5d.xlarge",
    "vcpuNum": 4
   },
   {
    "_defaultOrder": 14,
    "_isFastLaunch": false,
    "category": "General purpose",
    "gpuNum": 0,
    "hideHardwareSpecs": false,
    "memoryGiB": 32,
    "name": "ml.m5d.2xlarge",
    "vcpuNum": 8
   },
   {
    "_defaultOrder": 15,
    "_isFastLaunch": false,
    "category": "General purpose",
    "gpuNum": 0,
    "hideHardwareSpecs": false,
    "memoryGiB": 64,
    "name": "ml.m5d.4xlarge",
    "vcpuNum": 16
   },
   {
    "_defaultOrder": 16,
    "_isFastLaunch": false,
    "category": "General purpose",
    "gpuNum": 0,
    "hideHardwareSpecs": false,
    "memoryGiB": 128,
    "name": "ml.m5d.8xlarge",
    "vcpuNum": 32
   },
   {
    "_defaultOrder": 17,
    "_isFastLaunch": false,
    "category": "General purpose",
    "gpuNum": 0,
    "hideHardwareSpecs": false,
    "memoryGiB": 192,
    "name": "ml.m5d.12xlarge",
    "vcpuNum": 48
   },
   {
    "_defaultOrder": 18,
    "_isFastLaunch": false,
    "category": "General purpose",
    "gpuNum": 0,
    "hideHardwareSpecs": false,
    "memoryGiB": 256,
    "name": "ml.m5d.16xlarge",
    "vcpuNum": 64
   },
   {
    "_defaultOrder": 19,
    "_isFastLaunch": false,
    "category": "General purpose",
    "gpuNum": 0,
    "hideHardwareSpecs": false,
    "memoryGiB": 384,
    "name": "ml.m5d.24xlarge",
    "vcpuNum": 96
   },
   {
    "_defaultOrder": 20,
    "_isFastLaunch": false,
    "category": "General purpose",
    "gpuNum": 0,
    "hideHardwareSpecs": true,
    "memoryGiB": 0,
    "name": "ml.geospatial.interactive",
    "supportedImageNames": [
     "sagemaker-geospatial-v1-0"
    ],
    "vcpuNum": 0
   },
   {
    "_defaultOrder": 21,
    "_isFastLaunch": true,
    "category": "Compute optimized",
    "gpuNum": 0,
    "hideHardwareSpecs": false,
    "memoryGiB": 4,
    "name": "ml.c5.large",
    "vcpuNum": 2
   },
   {
    "_defaultOrder": 22,
    "_isFastLaunch": false,
    "category": "Compute optimized",
    "gpuNum": 0,
    "hideHardwareSpecs": false,
    "memoryGiB": 8,
    "name": "ml.c5.xlarge",
    "vcpuNum": 4
   },
   {
    "_defaultOrder": 23,
    "_isFastLaunch": false,
    "category": "Compute optimized",
    "gpuNum": 0,
    "hideHardwareSpecs": false,
    "memoryGiB": 16,
    "name": "ml.c5.2xlarge",
    "vcpuNum": 8
   },
   {
    "_defaultOrder": 24,
    "_isFastLaunch": false,
    "category": "Compute optimized",
    "gpuNum": 0,
    "hideHardwareSpecs": false,
    "memoryGiB": 32,
    "name": "ml.c5.4xlarge",
    "vcpuNum": 16
   },
   {
    "_defaultOrder": 25,
    "_isFastLaunch": false,
    "category": "Compute optimized",
    "gpuNum": 0,
    "hideHardwareSpecs": false,
    "memoryGiB": 72,
    "name": "ml.c5.9xlarge",
    "vcpuNum": 36
   },
   {
    "_defaultOrder": 26,
    "_isFastLaunch": false,
    "category": "Compute optimized",
    "gpuNum": 0,
    "hideHardwareSpecs": false,
    "memoryGiB": 96,
    "name": "ml.c5.12xlarge",
    "vcpuNum": 48
   },
   {
    "_defaultOrder": 27,
    "_isFastLaunch": false,
    "category": "Compute optimized",
    "gpuNum": 0,
    "hideHardwareSpecs": false,
    "memoryGiB": 144,
    "name": "ml.c5.18xlarge",
    "vcpuNum": 72
   },
   {
    "_defaultOrder": 28,
    "_isFastLaunch": false,
    "category": "Compute optimized",
    "gpuNum": 0,
    "hideHardwareSpecs": false,
    "memoryGiB": 192,
    "name": "ml.c5.24xlarge",
    "vcpuNum": 96
   },
   {
    "_defaultOrder": 29,
    "_isFastLaunch": true,
    "category": "Accelerated computing",
    "gpuNum": 1,
    "hideHardwareSpecs": false,
    "memoryGiB": 16,
    "name": "ml.g4dn.xlarge",
    "vcpuNum": 4
   },
   {
    "_defaultOrder": 30,
    "_isFastLaunch": false,
    "category": "Accelerated computing",
    "gpuNum": 1,
    "hideHardwareSpecs": false,
    "memoryGiB": 32,
    "name": "ml.g4dn.2xlarge",
    "vcpuNum": 8
   },
   {
    "_defaultOrder": 31,
    "_isFastLaunch": false,
    "category": "Accelerated computing",
    "gpuNum": 1,
    "hideHardwareSpecs": false,
    "memoryGiB": 64,
    "name": "ml.g4dn.4xlarge",
    "vcpuNum": 16
   },
   {
    "_defaultOrder": 32,
    "_isFastLaunch": false,
    "category": "Accelerated computing",
    "gpuNum": 1,
    "hideHardwareSpecs": false,
    "memoryGiB": 128,
    "name": "ml.g4dn.8xlarge",
    "vcpuNum": 32
   },
   {
    "_defaultOrder": 33,
    "_isFastLaunch": false,
    "category": "Accelerated computing",
    "gpuNum": 4,
    "hideHardwareSpecs": false,
    "memoryGiB": 192,
    "name": "ml.g4dn.12xlarge",
    "vcpuNum": 48
   },
   {
    "_defaultOrder": 34,
    "_isFastLaunch": false,
    "category": "Accelerated computing",
    "gpuNum": 1,
    "hideHardwareSpecs": false,
    "memoryGiB": 256,
    "name": "ml.g4dn.16xlarge",
    "vcpuNum": 64
   },
   {
    "_defaultOrder": 35,
    "_isFastLaunch": false,
    "category": "Accelerated computing",
    "gpuNum": 1,
    "hideHardwareSpecs": false,
    "memoryGiB": 61,
    "name": "ml.p3.2xlarge",
    "vcpuNum": 8
   },
   {
    "_defaultOrder": 36,
    "_isFastLaunch": false,
    "category": "Accelerated computing",
    "gpuNum": 4,
    "hideHardwareSpecs": false,
    "memoryGiB": 244,
    "name": "ml.p3.8xlarge",
    "vcpuNum": 32
   },
   {
    "_defaultOrder": 37,
    "_isFastLaunch": false,
    "category": "Accelerated computing",
    "gpuNum": 8,
    "hideHardwareSpecs": false,
    "memoryGiB": 488,
    "name": "ml.p3.16xlarge",
    "vcpuNum": 64
   },
   {
    "_defaultOrder": 38,
    "_isFastLaunch": false,
    "category": "Accelerated computing",
    "gpuNum": 8,
    "hideHardwareSpecs": false,
    "memoryGiB": 768,
    "name": "ml.p3dn.24xlarge",
    "vcpuNum": 96
   },
   {
    "_defaultOrder": 39,
    "_isFastLaunch": false,
    "category": "Memory Optimized",
    "gpuNum": 0,
    "hideHardwareSpecs": false,
    "memoryGiB": 16,
    "name": "ml.r5.large",
    "vcpuNum": 2
   },
   {
    "_defaultOrder": 40,
    "_isFastLaunch": false,
    "category": "Memory Optimized",
    "gpuNum": 0,
    "hideHardwareSpecs": false,
    "memoryGiB": 32,
    "name": "ml.r5.xlarge",
    "vcpuNum": 4
   },
   {
    "_defaultOrder": 41,
    "_isFastLaunch": false,
    "category": "Memory Optimized",
    "gpuNum": 0,
    "hideHardwareSpecs": false,
    "memoryGiB": 64,
    "name": "ml.r5.2xlarge",
    "vcpuNum": 8
   },
   {
    "_defaultOrder": 42,
    "_isFastLaunch": false,
    "category": "Memory Optimized",
    "gpuNum": 0,
    "hideHardwareSpecs": false,
    "memoryGiB": 128,
    "name": "ml.r5.4xlarge",
    "vcpuNum": 16
   },
   {
    "_defaultOrder": 43,
    "_isFastLaunch": false,
    "category": "Memory Optimized",
    "gpuNum": 0,
    "hideHardwareSpecs": false,
    "memoryGiB": 256,
    "name": "ml.r5.8xlarge",
    "vcpuNum": 32
   },
   {
    "_defaultOrder": 44,
    "_isFastLaunch": false,
    "category": "Memory Optimized",
    "gpuNum": 0,
    "hideHardwareSpecs": false,
    "memoryGiB": 384,
    "name": "ml.r5.12xlarge",
    "vcpuNum": 48
   },
   {
    "_defaultOrder": 45,
    "_isFastLaunch": false,
    "category": "Memory Optimized",
    "gpuNum": 0,
    "hideHardwareSpecs": false,
    "memoryGiB": 512,
    "name": "ml.r5.16xlarge",
    "vcpuNum": 64
   },
   {
    "_defaultOrder": 46,
    "_isFastLaunch": false,
    "category": "Memory Optimized",
    "gpuNum": 0,
    "hideHardwareSpecs": false,
    "memoryGiB": 768,
    "name": "ml.r5.24xlarge",
    "vcpuNum": 96
   },
   {
    "_defaultOrder": 47,
    "_isFastLaunch": false,
    "category": "Accelerated computing",
    "gpuNum": 1,
    "hideHardwareSpecs": false,
    "memoryGiB": 16,
    "name": "ml.g5.xlarge",
    "vcpuNum": 4
   },
   {
    "_defaultOrder": 48,
    "_isFastLaunch": false,
    "category": "Accelerated computing",
    "gpuNum": 1,
    "hideHardwareSpecs": false,
    "memoryGiB": 32,
    "name": "ml.g5.2xlarge",
    "vcpuNum": 8
   },
   {
    "_defaultOrder": 49,
    "_isFastLaunch": false,
    "category": "Accelerated computing",
    "gpuNum": 1,
    "hideHardwareSpecs": false,
    "memoryGiB": 64,
    "name": "ml.g5.4xlarge",
    "vcpuNum": 16
   },
   {
    "_defaultOrder": 50,
    "_isFastLaunch": false,
    "category": "Accelerated computing",
    "gpuNum": 1,
    "hideHardwareSpecs": false,
    "memoryGiB": 128,
    "name": "ml.g5.8xlarge",
    "vcpuNum": 32
   },
   {
    "_defaultOrder": 51,
    "_isFastLaunch": false,
    "category": "Accelerated computing",
    "gpuNum": 1,
    "hideHardwareSpecs": false,
    "memoryGiB": 256,
    "name": "ml.g5.16xlarge",
    "vcpuNum": 64
   },
   {
    "_defaultOrder": 52,
    "_isFastLaunch": false,
    "category": "Accelerated computing",
    "gpuNum": 4,
    "hideHardwareSpecs": false,
    "memoryGiB": 192,
    "name": "ml.g5.12xlarge",
    "vcpuNum": 48
   },
   {
    "_defaultOrder": 53,
    "_isFastLaunch": false,
    "category": "Accelerated computing",
    "gpuNum": 4,
    "hideHardwareSpecs": false,
    "memoryGiB": 384,
    "name": "ml.g5.24xlarge",
    "vcpuNum": 96
   },
   {
    "_defaultOrder": 54,
    "_isFastLaunch": false,
    "category": "Accelerated computing",
    "gpuNum": 8,
    "hideHardwareSpecs": false,
    "memoryGiB": 768,
    "name": "ml.g5.48xlarge",
    "vcpuNum": 192
   },
   {
    "_defaultOrder": 55,
    "_isFastLaunch": false,
    "category": "Accelerated computing",
    "gpuNum": 8,
    "hideHardwareSpecs": false,
    "memoryGiB": 1152,
    "name": "ml.p4d.24xlarge",
    "vcpuNum": 96
   },
   {
    "_defaultOrder": 56,
    "_isFastLaunch": false,
    "category": "Accelerated computing",
    "gpuNum": 8,
    "hideHardwareSpecs": false,
    "memoryGiB": 1152,
    "name": "ml.p4de.24xlarge",
    "vcpuNum": 96
   },
   {
    "_defaultOrder": 57,
    "_isFastLaunch": false,
    "category": "Accelerated computing",
    "gpuNum": 0,
    "hideHardwareSpecs": false,
    "memoryGiB": 32,
    "name": "ml.trn1.2xlarge",
    "vcpuNum": 8
   },
   {
    "_defaultOrder": 58,
    "_isFastLaunch": false,
    "category": "Accelerated computing",
    "gpuNum": 0,
    "hideHardwareSpecs": false,
    "memoryGiB": 512,
    "name": "ml.trn1.32xlarge",
    "vcpuNum": 128
   },
   {
    "_defaultOrder": 59,
    "_isFastLaunch": false,
    "category": "Accelerated computing",
    "gpuNum": 0,
    "hideHardwareSpecs": false,
    "memoryGiB": 512,
    "name": "ml.trn1n.32xlarge",
    "vcpuNum": 128
   }
  ],
  "instance_type": "ml.t3.medium",
  "kernelspec": {
   "display_name": "Python 3 (Data Science 3.0)",
   "language": "python",
   "name": "python3__SAGEMAKER_INTERNAL__arn:aws:sagemaker:us-east-1:081325390199:image/sagemaker-data-science-310-v1"
  },
  "language_info": {
   "codemirror_mode": {
    "name": "ipython",
    "version": 3
   },
   "file_extension": ".py",
   "mimetype": "text/x-python",
   "name": "python",
   "nbconvert_exporter": "python",
   "pygments_lexer": "ipython3",
   "version": "3.10.6"
  }
 },
 "nbformat": 4,
 "nbformat_minor": 5
}
